{
  "nbformat": 4,
  "nbformat_minor": 0,
  "metadata": {
    "colab": {
      "name": "Stock Market Price Prediction Using  Stacked LTSM.ipynb",
      "provenance": [],
      "collapsed_sections": []
    },
    "kernelspec": {
      "name": "python3",
      "display_name": "Python 3"
    },
    "language_info": {
      "name": "python"
    },
    "accelerator": "GPU"
  },
  "cells": [
    {
      "cell_type": "code",
      "metadata": {
        "id": "tApJeThWt8B5"
      },
      "source": [
        " key = 'f7f12a746bc25d73c4bb54fdf68750a40536da39'"
      ],
      "execution_count": null,
      "outputs": []
    },
    {
      "cell_type": "code",
      "metadata": {
        "id": "_TRhOnEeyl7p"
      },
      "source": [
        "import pandas_datareader as pdr #For DataCollection"
      ],
      "execution_count": null,
      "outputs": []
    },
    {
      "cell_type": "code",
      "metadata": {
        "id": "n8Z6wEUiwClq",
        "colab": {
          "base_uri": "https://localhost:8080/"
        },
        "outputId": "a483a385-35c5-43d3-ebe0-67fcd30204f6"
      },
      "source": [
        "df = pdr.get_data_tiingo('AAPL',api_key=key)"
      ],
      "execution_count": null,
      "outputs": [
        {
          "output_type": "stream",
          "name": "stderr",
          "text": [
            "/usr/local/lib/python3.7/dist-packages/pandas_datareader/tiingo.py:234: FutureWarning: In a future version of pandas all arguments of concat except for the argument 'objs' will be keyword-only\n",
            "  return pd.concat(dfs, self._concat_axis)\n"
          ]
        }
      ]
    },
    {
      "cell_type": "code",
      "metadata": {
        "id": "p_GaEgztyuak"
      },
      "source": [
        "df.to_csv('AAPL.csv')"
      ],
      "execution_count": null,
      "outputs": []
    },
    {
      "cell_type": "code",
      "metadata": {
        "id": "ZULGKITszBvj"
      },
      "source": [
        "import pandas as pd\n",
        "df = pd.read_csv(\"AAPL.csv\")"
      ],
      "execution_count": null,
      "outputs": []
    },
    {
      "cell_type": "code",
      "metadata": {
        "id": "r57KJJxFzK4b"
      },
      "source": [
        "df.tail()"
      ],
      "execution_count": null,
      "outputs": []
    },
    {
      "cell_type": "code",
      "metadata": {
        "id": "op-Pvt3vzMG3"
      },
      "source": [
        "df2 = df.reset_index()['close']  #WE will be doing prediction for CLOSE coloumn and features will be previous close values"
      ],
      "execution_count": null,
      "outputs": []
    },
    {
      "cell_type": "code",
      "metadata": {
        "colab": {
          "base_uri": "https://localhost:8080/",
          "height": 282
        },
        "id": "kFx3JH6YzuDO",
        "outputId": "840fd63a-4fda-4403-affd-09560fe33901"
      },
      "source": [
        "import matplotlib.pyplot as plt\n",
        "plt.plot(df2)"
      ],
      "execution_count": null,
      "outputs": [
        {
          "output_type": "execute_result",
          "data": {
            "text/plain": [
              "[<matplotlib.lines.Line2D at 0x7fc180dff710>]"
            ]
          },
          "metadata": {},
          "execution_count": 8
        },
        {
          "output_type": "display_data",
          "data": {
            "image/png": "[encoded data removed]",
            "text/plain": [
              "<Figure size 432x288 with 1 Axes>"
            ]
          },
          "metadata": {
            "needs_background": "light"
          }
        }
      ]
    },
    {
      "cell_type": "code",
      "metadata": {
        "id": "ULhC8Gluzu52"
      },
      "source": [
        "### LSTM are very sensitive to the scale of the data .so we apply minmax scalar\n"
      ],
      "execution_count": null,
      "outputs": []
    },
    {
      "cell_type": "code",
      "metadata": {
        "id": "rAXNbxTb0WJL"
      },
      "source": [
        "import numpy as np\n",
        "from sklearn.preprocessing import MinMaxScaler\n",
        "scalar = MinMaxScaler(feature_range=(0,1))\n",
        "df1 =scalar.fit_transform(np.array(df2).reshape(-1,1))\n"
      ],
      "execution_count": null,
      "outputs": []
    },
    {
      "cell_type": "code",
      "metadata": {
        "id": "DeL6wXB61ENU"
      },
      "source": [
        "# Spliting the data\n",
        "training_size = int(len(df1)*0.65)\n",
        "test_size = len(df1) - training_size\n",
        "train_data , test_data = df1[0:training_size],df1[training_size:len(df1)] #[start:End]"
      ],
      "execution_count": null,
      "outputs": []
    },
    {
      "cell_type": "code",
      "metadata": {
        "colab": {
          "base_uri": "https://localhost:8080/"
        },
        "id": "Qt3jBAsP1ToG",
        "outputId": "03ea8bd1-f8ba-4799-e82a-12662042aa9f"
      },
      "source": [
        "print(training_size, test_size)"
      ],
      "execution_count": null,
      "outputs": [
        {
          "output_type": "stream",
          "name": "stdout",
          "text": [
            "819 441\n"
          ]
        }
      ]
    },
    {
      "cell_type": "code",
      "metadata": {
        "id": "26G625DM4WZU"
      },
      "source": [
        "def Create_dataset(dataset,timestep=1):\n",
        "  DataX = []\n",
        "  DataY = []\n",
        "  for i in range(len(dataset)-timestep-1): #if i=1 ,timestep=100\n",
        "    a = dataset[i:(i+timestep)]     # a/TrainX = [1: (1 + 100)] = value from  1->100\n",
        "    DataX.append(a) \n",
        "    DataY.append(dataset[i+timestep]) #TrainY = [1 + 100] -> 101th value\n",
        "  return np.array(DataX), np.array(DataY)\n"
      ],
      "execution_count": null,
      "outputs": []
    },
    {
      "cell_type": "code",
      "metadata": {
        "id": "YFLNklgKAHvr"
      },
      "source": [
        "time_step = 100\n",
        "X_train , Y_train = Create_dataset(train_data,time_step)\n",
        "X_test , y_test = Create_dataset(test_data,time_step)"
      ],
      "execution_count": null,
      "outputs": []
    },
    {
      "cell_type": "code",
      "metadata": {
        "colab": {
          "base_uri": "https://localhost:8080/"
        },
        "id": "yZriCFvhAlLk",
        "outputId": "b03ee36b-bb0a-40aa-9b88-3853b31480b1"
      },
      "source": [
        "print(X_train.shape,Y_train.shape)"
      ],
      "execution_count": null,
      "outputs": [
        {
          "output_type": "stream",
          "name": "stdout",
          "text": [
            "(718, 100, 1) (718, 1)\n"
          ]
        }
      ]
    },
    {
      "cell_type": "code",
      "metadata": {
        "id": "m5kktS3jBCop"
      },
      "source": [
        ""
      ],
      "execution_count": null,
      "outputs": []
    },
    {
      "cell_type": "markdown",
      "metadata": {
        "id": "sp36XOcZCMVu"
      },
      "source": [
        "## Creating LTSM\n"
      ]
    },
    {
      "cell_type": "code",
      "metadata": {
        "id": "Q7fwIHrOCU-o"
      },
      "source": [
        "#We have to give 3 dimensional model in lstm"
      ],
      "execution_count": null,
      "outputs": []
    },
    {
      "cell_type": "code",
      "metadata": {
        "id": "kswV04DECmnR"
      },
      "source": [
        "from tensorflow.keras.models import Sequential\n",
        "from tensorflow.keras.layers import Dense\n",
        "from tensorflow.keras.layers import LSTM"
      ],
      "execution_count": null,
      "outputs": []
    },
    {
      "cell_type": "code",
      "metadata": {
        "id": "IDIZsyhSDImf"
      },
      "source": [
        "model = Sequential()\n",
        "model.add(LSTM(50,return_sequences=True,input_shape = (100,1)))\n",
        "model.add(LSTM(50,return_sequences=True))\n",
        "model.add(LSTM(50))\n",
        "model.add(Dense(1))\n",
        "model.compile(loss='mean_squared_error',optimizer='adam')"
      ],
      "execution_count": null,
      "outputs": []
    },
    {
      "cell_type": "code",
      "metadata": {
        "id": "b6jVgp8LDowt",
        "colab": {
          "base_uri": "https://localhost:8080/"
        },
        "outputId": "fc089b16-af92-45bf-9064-c880e0b2642c"
      },
      "source": [
        "model.summary()"
      ],
      "execution_count": null,
      "outputs": [
        {
          "output_type": "stream",
          "name": "stdout",
          "text": [
            "Model: \"sequential\"\n",
            "_________________________________________________________________\n",
            " Layer (type)                Output Shape              Param #   \n",
            "=================================================================\n",
            " lstm (LSTM)                 (None, 100, 50)           10400     \n",
            "                                                                 \n",
            " lstm_1 (LSTM)               (None, 100, 50)           20200     \n",
            "                                                                 \n",
            " lstm_2 (LSTM)               (None, 50)                20200     \n",
            "                                                                 \n",
            " dense (Dense)               (None, 1)                 51        \n",
            "                                                                 \n",
            "=================================================================\n",
            "Total params: 50,851\n",
            "Trainable params: 50,851\n",
            "Non-trainable params: 0\n",
            "_________________________________________________________________\n"
          ]
        }
      ]
    },
    {
      "cell_type": "code",
      "source": [
        "model.fit(X_train,Y_train,validation_data=(X_test,y_test),epochs=100,batch_size=64,verbose=1)"
      ],
      "metadata": {
        "colab": {
          "base_uri": "https://localhost:8080/"
        },
        "id": "I_B85eTsL1UZ",
        "outputId": "048bc722-8f13-4896-f011-d84e899d2067"
      },
      "execution_count": null,
      "outputs": [
        {
          "output_type": "stream",
          "name": "stdout",
          "text": [
            "Epoch 1/100\n",
            "12/12 [==============================] - 13s 203ms/step - loss: 0.0210 - val_loss: 0.0023\n",
            "Epoch 2/100\n",
            "12/12 [==============================] - 1s 84ms/step - loss: 0.0040 - val_loss: 0.0045\n",
            "Epoch 3/100\n",
            "12/12 [==============================] - 1s 83ms/step - loss: 0.0017 - val_loss: 8.8775e-04\n",
            "Epoch 4/100\n",
            "12/12 [==============================] - 1s 84ms/step - loss: 0.0012 - val_loss: 2.7191e-04\n",
            "Epoch 5/100\n",
            "12/12 [==============================] - 1s 83ms/step - loss: 0.0011 - val_loss: 2.4924e-04\n",
            "Epoch 6/100\n",
            "12/12 [==============================] - 1s 84ms/step - loss: 0.0010 - val_loss: 2.5331e-04\n",
            "Epoch 7/100\n",
            "12/12 [==============================] - 1s 83ms/step - loss: 0.0010 - val_loss: 3.2875e-04\n",
            "Epoch 8/100\n",
            "12/12 [==============================] - 1s 83ms/step - loss: 9.1802e-04 - val_loss: 2.3938e-04\n",
            "Epoch 9/100\n",
            "12/12 [==============================] - 1s 84ms/step - loss: 9.2500e-04 - val_loss: 2.5600e-04\n",
            "Epoch 10/100\n",
            "12/12 [==============================] - 1s 84ms/step - loss: 0.0010 - val_loss: 3.5322e-04\n",
            "Epoch 11/100\n",
            "12/12 [==============================] - 1s 83ms/step - loss: 8.2762e-04 - val_loss: 2.4278e-04\n",
            "Epoch 12/100\n",
            "12/12 [==============================] - 1s 84ms/step - loss: 8.0284e-04 - val_loss: 2.0676e-04\n",
            "Epoch 13/100\n",
            "12/12 [==============================] - 1s 83ms/step - loss: 7.7070e-04 - val_loss: 2.1037e-04\n",
            "Epoch 14/100\n",
            "12/12 [==============================] - 1s 83ms/step - loss: 6.9837e-04 - val_loss: 2.3774e-04\n",
            "Epoch 15/100\n",
            "12/12 [==============================] - 1s 84ms/step - loss: 6.4468e-04 - val_loss: 2.1256e-04\n",
            "Epoch 16/100\n",
            "12/12 [==============================] - 1s 84ms/step - loss: 6.1982e-04 - val_loss: 1.9192e-04\n",
            "Epoch 17/100\n",
            "12/12 [==============================] - 1s 84ms/step - loss: 7.6844e-04 - val_loss: 2.1340e-04\n",
            "Epoch 18/100\n",
            "12/12 [==============================] - 1s 84ms/step - loss: 7.9986e-04 - val_loss: 2.2559e-04\n",
            "Epoch 19/100\n",
            "12/12 [==============================] - 1s 83ms/step - loss: 5.7820e-04 - val_loss: 1.9551e-04\n",
            "Epoch 20/100\n",
            "12/12 [==============================] - 1s 83ms/step - loss: 5.2566e-04 - val_loss: 2.1634e-04\n",
            "Epoch 21/100\n",
            "12/12 [==============================] - 1s 83ms/step - loss: 5.1771e-04 - val_loss: 1.9457e-04\n",
            "Epoch 22/100\n",
            "12/12 [==============================] - 1s 83ms/step - loss: 5.4570e-04 - val_loss: 1.9628e-04\n",
            "Epoch 23/100\n",
            "12/12 [==============================] - 1s 83ms/step - loss: 5.6383e-04 - val_loss: 2.0348e-04\n",
            "Epoch 24/100\n",
            "12/12 [==============================] - 1s 84ms/step - loss: 5.1371e-04 - val_loss: 1.8992e-04\n",
            "Epoch 25/100\n",
            "12/12 [==============================] - 1s 84ms/step - loss: 4.9226e-04 - val_loss: 2.3765e-04\n",
            "Epoch 26/100\n",
            "12/12 [==============================] - 1s 84ms/step - loss: 5.3908e-04 - val_loss: 1.9915e-04\n",
            "Epoch 27/100\n",
            "12/12 [==============================] - 1s 84ms/step - loss: 4.5841e-04 - val_loss: 2.0424e-04\n",
            "Epoch 28/100\n",
            "12/12 [==============================] - 1s 83ms/step - loss: 4.7401e-04 - val_loss: 2.3588e-04\n",
            "Epoch 29/100\n",
            "12/12 [==============================] - 1s 84ms/step - loss: 5.8356e-04 - val_loss: 2.0705e-04\n",
            "Epoch 30/100\n",
            "12/12 [==============================] - 1s 84ms/step - loss: 4.7910e-04 - val_loss: 2.1870e-04\n",
            "Epoch 31/100\n",
            "12/12 [==============================] - 1s 84ms/step - loss: 5.3177e-04 - val_loss: 2.3764e-04\n",
            "Epoch 32/100\n",
            "12/12 [==============================] - 1s 84ms/step - loss: 4.5464e-04 - val_loss: 1.7957e-04\n",
            "Epoch 33/100\n",
            "12/12 [==============================] - 1s 84ms/step - loss: 4.3173e-04 - val_loss: 1.8941e-04\n",
            "Epoch 34/100\n",
            "12/12 [==============================] - 1s 84ms/step - loss: 4.2049e-04 - val_loss: 1.9942e-04\n",
            "Epoch 35/100\n",
            "12/12 [==============================] - 1s 85ms/step - loss: 4.6622e-04 - val_loss: 1.9251e-04\n",
            "Epoch 36/100\n",
            "12/12 [==============================] - 1s 84ms/step - loss: 4.9157e-04 - val_loss: 1.6964e-04\n",
            "Epoch 37/100\n",
            "12/12 [==============================] - 1s 84ms/step - loss: 4.1454e-04 - val_loss: 1.9058e-04\n",
            "Epoch 38/100\n",
            "12/12 [==============================] - 1s 84ms/step - loss: 4.3203e-04 - val_loss: 1.6709e-04\n",
            "Epoch 39/100\n",
            "12/12 [==============================] - 1s 84ms/step - loss: 4.3980e-04 - val_loss: 2.0146e-04\n",
            "Epoch 40/100\n",
            "12/12 [==============================] - 1s 84ms/step - loss: 4.2900e-04 - val_loss: 1.6462e-04\n",
            "Epoch 41/100\n",
            "12/12 [==============================] - 1s 84ms/step - loss: 4.3514e-04 - val_loss: 1.9639e-04\n",
            "Epoch 42/100\n",
            "12/12 [==============================] - 1s 83ms/step - loss: 4.2843e-04 - val_loss: 1.7174e-04\n",
            "Epoch 43/100\n",
            "12/12 [==============================] - 1s 84ms/step - loss: 3.9871e-04 - val_loss: 1.7408e-04\n",
            "Epoch 44/100\n",
            "12/12 [==============================] - 1s 84ms/step - loss: 3.9682e-04 - val_loss: 1.7218e-04\n",
            "Epoch 45/100\n",
            "12/12 [==============================] - 1s 84ms/step - loss: 3.9741e-04 - val_loss: 1.9004e-04\n",
            "Epoch 46/100\n",
            "12/12 [==============================] - 1s 84ms/step - loss: 4.0150e-04 - val_loss: 1.6743e-04\n",
            "Epoch 47/100\n",
            "12/12 [==============================] - 1s 85ms/step - loss: 4.1796e-04 - val_loss: 1.6389e-04\n",
            "Epoch 48/100\n",
            "12/12 [==============================] - 1s 84ms/step - loss: 4.3948e-04 - val_loss: 1.6755e-04\n",
            "Epoch 49/100\n",
            "12/12 [==============================] - 1s 84ms/step - loss: 3.8740e-04 - val_loss: 1.6385e-04\n",
            "Epoch 50/100\n",
            "12/12 [==============================] - 1s 83ms/step - loss: 3.8803e-04 - val_loss: 1.5864e-04\n",
            "Epoch 51/100\n",
            "12/12 [==============================] - 1s 84ms/step - loss: 3.8109e-04 - val_loss: 1.8352e-04\n",
            "Epoch 52/100\n",
            "12/12 [==============================] - 1s 83ms/step - loss: 4.1323e-04 - val_loss: 1.8088e-04\n",
            "Epoch 53/100\n",
            "12/12 [==============================] - 1s 84ms/step - loss: 4.0721e-04 - val_loss: 1.5862e-04\n",
            "Epoch 54/100\n",
            "12/12 [==============================] - 1s 86ms/step - loss: 4.1520e-04 - val_loss: 2.2046e-04\n",
            "Epoch 55/100\n",
            "12/12 [==============================] - 1s 89ms/step - loss: 4.4581e-04 - val_loss: 1.5513e-04\n",
            "Epoch 56/100\n",
            "12/12 [==============================] - 1s 90ms/step - loss: 3.7339e-04 - val_loss: 2.1587e-04\n",
            "Epoch 57/100\n",
            "12/12 [==============================] - 1s 92ms/step - loss: 3.9794e-04 - val_loss: 1.5430e-04\n",
            "Epoch 58/100\n",
            "12/12 [==============================] - 1s 86ms/step - loss: 4.2174e-04 - val_loss: 1.7350e-04\n",
            "Epoch 59/100\n",
            "12/12 [==============================] - 1s 87ms/step - loss: 3.5718e-04 - val_loss: 1.9535e-04\n",
            "Epoch 60/100\n",
            "12/12 [==============================] - 1s 84ms/step - loss: 3.9030e-04 - val_loss: 1.6437e-04\n",
            "Epoch 61/100\n",
            "12/12 [==============================] - 1s 84ms/step - loss: 3.7914e-04 - val_loss: 1.7587e-04\n",
            "Epoch 62/100\n",
            "12/12 [==============================] - 1s 83ms/step - loss: 3.7117e-04 - val_loss: 1.5700e-04\n",
            "Epoch 63/100\n",
            "12/12 [==============================] - 1s 83ms/step - loss: 4.4589e-04 - val_loss: 1.7045e-04\n",
            "Epoch 64/100\n",
            "12/12 [==============================] - 1s 84ms/step - loss: 3.8834e-04 - val_loss: 1.7146e-04\n",
            "Epoch 65/100\n",
            "12/12 [==============================] - 1s 84ms/step - loss: 3.9121e-04 - val_loss: 1.7311e-04\n",
            "Epoch 66/100\n",
            "12/12 [==============================] - 1s 84ms/step - loss: 4.3845e-04 - val_loss: 1.5224e-04\n",
            "Epoch 67/100\n",
            "12/12 [==============================] - 1s 84ms/step - loss: 4.4236e-04 - val_loss: 2.0987e-04\n",
            "Epoch 68/100\n",
            "12/12 [==============================] - 1s 83ms/step - loss: 3.7099e-04 - val_loss: 1.6147e-04\n",
            "Epoch 69/100\n",
            "12/12 [==============================] - 1s 83ms/step - loss: 4.2069e-04 - val_loss: 2.9474e-04\n",
            "Epoch 70/100\n",
            "12/12 [==============================] - 1s 83ms/step - loss: 5.0389e-04 - val_loss: 1.8681e-04\n",
            "Epoch 71/100\n",
            "12/12 [==============================] - 1s 84ms/step - loss: 3.5069e-04 - val_loss: 1.6869e-04\n",
            "Epoch 72/100\n",
            "12/12 [==============================] - 1s 83ms/step - loss: 3.3687e-04 - val_loss: 1.5430e-04\n",
            "Epoch 73/100\n",
            "12/12 [==============================] - 1s 84ms/step - loss: 3.8560e-04 - val_loss: 1.5146e-04\n",
            "Epoch 74/100\n",
            "12/12 [==============================] - 1s 85ms/step - loss: 3.7229e-04 - val_loss: 1.9943e-04\n",
            "Epoch 75/100\n",
            "12/12 [==============================] - 1s 85ms/step - loss: 3.4540e-04 - val_loss: 1.5537e-04\n",
            "Epoch 76/100\n",
            "12/12 [==============================] - 1s 83ms/step - loss: 3.8374e-04 - val_loss: 1.8978e-04\n",
            "Epoch 77/100\n",
            "12/12 [==============================] - 1s 84ms/step - loss: 3.4324e-04 - val_loss: 1.6808e-04\n",
            "Epoch 78/100\n",
            "12/12 [==============================] - 1s 84ms/step - loss: 3.3859e-04 - val_loss: 1.6863e-04\n",
            "Epoch 79/100\n",
            "12/12 [==============================] - 1s 84ms/step - loss: 3.4878e-04 - val_loss: 1.7145e-04\n",
            "Epoch 80/100\n",
            "12/12 [==============================] - 1s 84ms/step - loss: 3.4850e-04 - val_loss: 1.7167e-04\n",
            "Epoch 81/100\n",
            "12/12 [==============================] - 1s 85ms/step - loss: 3.3741e-04 - val_loss: 1.9643e-04\n",
            "Epoch 82/100\n",
            "12/12 [==============================] - 1s 84ms/step - loss: 3.2947e-04 - val_loss: 1.5223e-04\n",
            "Epoch 83/100\n",
            "12/12 [==============================] - 1s 84ms/step - loss: 3.2816e-04 - val_loss: 2.1449e-04\n",
            "Epoch 84/100\n",
            "12/12 [==============================] - 1s 84ms/step - loss: 3.3483e-04 - val_loss: 1.8410e-04\n",
            "Epoch 85/100\n",
            "12/12 [==============================] - 1s 84ms/step - loss: 3.3386e-04 - val_loss: 2.6444e-04\n",
            "Epoch 86/100\n",
            "12/12 [==============================] - 1s 83ms/step - loss: 3.2983e-04 - val_loss: 1.8777e-04\n",
            "Epoch 87/100\n",
            "12/12 [==============================] - 1s 84ms/step - loss: 3.1375e-04 - val_loss: 2.1271e-04\n",
            "Epoch 88/100\n",
            "12/12 [==============================] - 1s 85ms/step - loss: 3.2596e-04 - val_loss: 1.7456e-04\n",
            "Epoch 89/100\n",
            "12/12 [==============================] - 1s 85ms/step - loss: 3.2074e-04 - val_loss: 3.1550e-04\n",
            "Epoch 90/100\n",
            "12/12 [==============================] - 1s 85ms/step - loss: 3.3920e-04 - val_loss: 2.2064e-04\n",
            "Epoch 91/100\n",
            "12/12 [==============================] - 1s 85ms/step - loss: 3.1041e-04 - val_loss: 2.1039e-04\n",
            "Epoch 92/100\n",
            "12/12 [==============================] - 1s 83ms/step - loss: 3.0631e-04 - val_loss: 1.5864e-04\n",
            "Epoch 93/100\n",
            "12/12 [==============================] - 1s 85ms/step - loss: 3.1989e-04 - val_loss: 2.9262e-04\n",
            "Epoch 94/100\n",
            "12/12 [==============================] - 1s 85ms/step - loss: 3.1634e-04 - val_loss: 1.8065e-04\n",
            "Epoch 95/100\n",
            "12/12 [==============================] - 1s 84ms/step - loss: 3.2173e-04 - val_loss: 1.8800e-04\n",
            "Epoch 96/100\n",
            "12/12 [==============================] - 1s 85ms/step - loss: 2.9614e-04 - val_loss: 2.6338e-04\n",
            "Epoch 97/100\n",
            "12/12 [==============================] - 1s 84ms/step - loss: 3.0334e-04 - val_loss: 1.9525e-04\n",
            "Epoch 98/100\n",
            "12/12 [==============================] - 1s 84ms/step - loss: 3.6804e-04 - val_loss: 2.3422e-04\n",
            "Epoch 99/100\n",
            "12/12 [==============================] - 1s 84ms/step - loss: 3.1928e-04 - val_loss: 1.7812e-04\n",
            "Epoch 100/100\n",
            "12/12 [==============================] - 1s 84ms/step - loss: 2.9904e-04 - val_loss: 1.9720e-04\n"
          ]
        },
        {
          "output_type": "execute_result",
          "data": {
            "text/plain": [
              "<keras.callbacks.History at 0x7fc10041c210>"
            ]
          },
          "metadata": {},
          "execution_count": 20
        }
      ]
    },
    {
      "cell_type": "code",
      "source": [
        "test_predict=model.predict(X_test)\n",
        "test_predict=scalar.inverse_transform(test_predict)"
      ],
      "metadata": {
        "id": "d-9M9_gcL_f5"
      },
      "execution_count": null,
      "outputs": []
    },
    {
      "cell_type": "code",
      "source": [
        "import math\n",
        "from sklearn.metrics import mean_squared_error\n",
        "from sklearn.metrics import mean_absolute_error\n",
        "print(\"MAE:\",math.sqrt(mean_absolute_error(y_test,test_predict)))\n",
        "print(\"MSE:\",math.sqrt(mean_squared_error(y_test,test_predict)))"
      ],
      "metadata": {
        "colab": {
          "base_uri": "https://localhost:8080/"
        },
        "id": "IQIXiz8FMsMD",
        "outputId": "4d379f2e-3a7e-4814-d774-8fcbbd0acf01"
      },
      "execution_count": null,
      "outputs": [
        {
          "output_type": "stream",
          "name": "stdout",
          "text": [
            "MAE: 11.978679339984335\n",
            "MSE: 144.3623592811084\n"
          ]
        }
      ]
    },
    {
      "cell_type": "code",
      "source": [
        ""
      ],
      "metadata": {
        "id": "TwoTZFMbNWLi"
      },
      "execution_count": null,
      "outputs": []
    }
  ]
}